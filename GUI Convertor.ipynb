{
 "cells": [
  {
   "cell_type": "code",
   "execution_count": 1,
   "id": "6aaca7fe",
   "metadata": {},
   "outputs": [],
   "source": [
    "from moviepy.editor import*        #* means including all functions"
   ]
  },
  {
   "cell_type": "code",
   "execution_count": 2,
   "id": "e6269f60",
   "metadata": {},
   "outputs": [],
   "source": [
    "video=VideoFileClip(\"video.mp4\").subclip(0,5).rotate(360)        #select video and timing"
   ]
  },
  {
   "cell_type": "code",
   "execution_count": 3,
   "id": "eb098446",
   "metadata": {},
   "outputs": [
    {
     "name": "stdout",
     "output_type": "stream",
     "text": [
      "MoviePy - Building file new3.gif with imageio.\n"
     ]
    },
    {
     "name": "stderr",
     "output_type": "stream",
     "text": [
      "                                                                                                                       \r"
     ]
    }
   ],
   "source": [
    "video.write_gif(\"new3.gif\")"
   ]
  },
  {
   "cell_type": "code",
   "execution_count": 4,
   "id": "f969cf8e",
   "metadata": {},
   "outputs": [],
   "source": [
    "#video=VideoFileClip(\"Animations.mp4\").subclip(0,5).rotate(180)       #for ration video in 180 degree"
   ]
  }
 ],
 "metadata": {
  "kernelspec": {
   "display_name": "Python 3 (ipykernel)",
   "language": "python",
   "name": "python3"
  },
  "language_info": {
   "codemirror_mode": {
    "name": "ipython",
    "version": 3
   },
   "file_extension": ".py",
   "mimetype": "text/x-python",
   "name": "python",
   "nbconvert_exporter": "python",
   "pygments_lexer": "ipython3",
   "version": "3.10.4"
  }
 },
 "nbformat": 4,
 "nbformat_minor": 5
}
